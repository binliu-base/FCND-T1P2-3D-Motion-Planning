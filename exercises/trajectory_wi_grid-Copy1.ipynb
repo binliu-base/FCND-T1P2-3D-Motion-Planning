{
 "cells": [
  {
   "cell_type": "code",
   "execution_count": 1,
   "metadata": {},
   "outputs": [],
   "source": [
    "import numpy as np\n",
    "import matplotlib.pyplot as plt\n",
    "from mpl_toolkits.mplot3d import Axes3D\n",
    "\n",
    "%matplotlib inline "
   ]
  },
  {
   "cell_type": "code",
   "execution_count": 2,
   "metadata": {},
   "outputs": [
    {
     "name": "stdout",
     "output_type": "stream",
     "text": [
      "[[-310.2389   -439.2315     85.5         5.          5.         85.5     ]\n",
      " [-300.2389   -439.2315     85.5         5.          5.         85.5     ]\n",
      " [-290.2389   -439.2315     85.5         5.          5.         85.5     ]\n",
      " ...\n",
      " [ 257.8061    425.1645      1.75852     1.292725    1.292725    1.944791]\n",
      " [ 293.9967    368.3391      3.557666    1.129456    1.129456    3.667319]\n",
      " [ 281.5162    354.4156      4.999351    1.053772    1.053772    4.950246]]\n"
     ]
    }
   ],
   "source": [
    "filename = '../colliders.csv'\n",
    "data = np.loadtxt(filename,delimiter=',',dtype='Float64',skiprows=2)\n",
    "print(data)"
   ]
  },
  {
   "cell_type": "code",
   "execution_count": 3,
   "metadata": {},
   "outputs": [],
   "source": [
    "import os, sys\n",
    "sys.path.append(os.path.dirname(os.path.dirname(os.path.abspath('planning_utils.py'))))\n",
    "from planning_utils import create_grid, a_star, heuristic, prune_path\n",
    "from udacidrone.frame_utils import global_to_local, local_to_global"
   ]
  },
  {
   "cell_type": "code",
   "execution_count": 4,
   "metadata": {},
   "outputs": [
    {
     "name": "stdout",
     "output_type": "stream",
     "text": [
      "Global Home     => [lon, lat, alt]     : [-122.39745   37.79248    0.     ]\n",
      "Global Position => [lon, lat, alt]     : [-122.3974512   37.7924799    0.147    ]\n",
      "Local Position  => [north, east, down] : [-0.01177589 -0.10558296 -0.147     ]\n"
     ]
    }
   ],
   "source": [
    "TARGET_ALTITUDE = 5\n",
    "SAFETY_DISTANCE = 5\n",
    "global_home = np.array([-122.39745, 37.79248, 0.0])\n",
    "print(f'Global Home     => [lon, lat, alt]     : {global_home}')\n",
    "global_position = np.array([-122.3974512, 37.7924799, 0.147])\n",
    "print(f'Global Position => [lon, lat, alt]     : {global_position}')\n",
    "local_position = global_to_local(global_position, global_home)\n",
    "print(f'Local Position  => [north, east, down] : {local_position}')"
   ]
  },
  {
   "cell_type": "code",
   "execution_count": 5,
   "metadata": {},
   "outputs": [
    {
     "name": "stdout",
     "output_type": "stream",
     "text": [
      "Grid offset : (-316, -445)\n",
      "Grid start : (316, 445)\n"
     ]
    }
   ],
   "source": [
    "# create a grid configuration space of the obstacle data.\n",
    "grid, north_offset, east_offset  = create_grid(data, TARGET_ALTITUDE, SAFETY_DISTANCE)\n",
    "print(f'Grid offset : ({north_offset}, {east_offset})')\n",
    "# grid_start_north = int(np.ceil(local_position[0] - north_offset))\n",
    "# grid_start_east = int(np.ceil(local_position[1] - east_offset))\n",
    "\n",
    "grid_start = (-north_offset + 400, -east_offset + 400)\n",
    "print(f'Grid start : {grid_start}')"
   ]
  },
  {
   "cell_type": "code",
   "execution_count": 6,
   "metadata": {},
   "outputs": [
    {
     "name": "stdout",
     "output_type": "stream",
     "text": [
      "Grid goal : (716, 845)\n",
      "Goal Local Position => [north, east, down]     : [[400 400   0]]\n",
      "Global Global Position => [lon, lat, alt]     : [[-122.39287756   37.79606176    0.        ]]\n"
     ]
    }
   ],
   "source": [
    "grid_goal = (-north_offset + 400, -east_offset + 400)\n",
    "print(f'Grid goal : {grid_goal}')\n",
    "\n",
    "gird_goal_local_position = np.array([grid_goal[0]+north_offset, grid_goal[1]+east_offset, 0])\n",
    "print(f'Goal Local Position => [north, east, down]     : [{gird_goal_local_position}]')\n",
    "\n",
    "grid_goal_global_position = local_to_global(gird_goal_local_position, global_home)\n",
    "print(f'Global Global Position => [lon, lat, alt]     : [{grid_goal_global_position}]')\n"
   ]
  },
  {
   "cell_type": "code",
   "execution_count": 7,
   "metadata": {},
   "outputs": [],
   "source": [
    "def visualize_path(g_start, g_goal, g, waypoints, n_offset, e_offset):\n",
    "    \"\"\"\n",
    "    Visualize the path to get from `g_start` to `g_goal` defined by `waypoints` and the grid `g`\n",
    "    \"\"\"\n",
    "#     path, cost = a_star(g, heuristic, grid_start, grid_goal)\n",
    "#     print(f'Path cost: {cost}')\n",
    "    \n",
    "#     waypoints = np.array([[p[0] + n_offset, p[1] + e_offset, TARGET_ALTITUDE, 0] for p in path])\n",
    "#     print(f'Waypoint count : {waypoints.shape[0]}')\n",
    "    \n",
    "    fig = plt.figure(figsize=(20,10))   \n",
    "    plt.imshow(g, origin='lower') \n",
    "    plt.plot(g_start[1] + waypoints[:, 1], g_start[0] + waypoints[:, 0], 'g')\n",
    "    plt.plot(g_start[1] + waypoints[:, 1], g_start[0] + waypoints[:, 0], 'oc')\n",
    "    plt.plot(g_start[1], g_start[0], 'r+')    \n",
    "    plt.plot(g_goal[1], g_goal[0], 'r+')\n",
    "    plt.xlabel('EAST')\n",
    "    plt.ylabel('NORTH')\n",
    "    plt.show()\n"
   ]
  },
  {
   "cell_type": "code",
   "execution_count": 8,
   "metadata": {},
   "outputs": [
    {
     "name": "stdout",
     "output_type": "stream",
     "text": [
      "Found a path.\n",
      "Path cost: 448160.0645114182\n",
      "Waypoint count : 1283\n"
     ]
    },
    {
     "data": {
      "image/png": "[encoded data removed]",
      "text/plain": [
       "<matplotlib.figure.Figure at 0x18f13b86048>"
      ]
     },
     "metadata": {},
     "output_type": "display_data"
    }
   ],
   "source": [
    "#Compute the lowest cost path with a_star\n",
    "path, cost = a_star(grid, heuristic, grid_start, grid_goal)\n",
    "print(f'Path cost: {cost}')\n",
    "waypoints = np.array([[p[0] + north_offset, p[1] + east_offset, TARGET_ALTITUDE, 0] for p in path])\n",
    "print(f'Waypoint count : {waypoints.shape[0]}')\n",
    "\n",
    "visualize_path(grid_start, grid_goal, grid, waypoints, north_offset, east_offset)"
   ]
  },
  {
   "cell_type": "markdown",
   "metadata": {},
   "source": [
    "#### Path Pruning"
   ]
  },
  {
   "cell_type": "code",
   "execution_count": 9,
   "metadata": {},
   "outputs": [
    {
     "name": "stdout",
     "output_type": "stream",
     "text": [
      "371\n"
     ]
    },
    {
     "data": {
      "image/png": "[encoded data removed]",
      "text/plain": [
       "<matplotlib.figure.Figure at 0x18f15e20780>"
      ]
     },
     "metadata": {},
     "output_type": "display_data"
    }
   ],
   "source": [
    "pruned_path = prune_path(path)\n",
    "print(len(pruned_path))\n",
    "\n",
    "pruned_waypoints =  np.array([[p[0] + north_offset, p[1] + east_offset, TARGET_ALTITUDE, 0] for p in pruned_path])\n",
    "\n",
    "visualize_path(grid_start, grid_goal, grid, pruned_waypoints, north_offset, east_offset)"
   ]
  },
  {
   "cell_type": "code",
   "execution_count": null,
   "metadata": {},
   "outputs": [],
   "source": []
  }
 ],
 "metadata": {
  "kernelspec": {
   "display_name": "Python 3",
   "language": "python",
   "name": "python3"
  },
  "language_info": {
   "codemirror_mode": {
    "name": "ipython",
    "version": 3
   },
   "file_extension": ".py",
   "mimetype": "text/x-python",
   "name": "python",
   "nbconvert_exporter": "python",
   "pygments_lexer": "ipython3",
   "version": "3.6.3"
  }
 },
 "nbformat": 4,
 "nbformat_minor": 2
}
