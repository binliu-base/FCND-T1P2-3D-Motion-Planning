{
 "cells": [
  {
   "cell_type": "code",
   "execution_count": 1,
   "metadata": {},
   "outputs": [],
   "source": [
    "import numpy as np\n",
    "import matplotlib.pyplot as plt\n",
    "from mpl_toolkits.mplot3d import Axes3D\n",
    "\n",
    "%matplotlib inline "
   ]
  },
  {
   "cell_type": "code",
   "execution_count": 2,
   "metadata": {},
   "outputs": [
    {
     "name": "stdout",
     "output_type": "stream",
     "text": [
      "[[-310.2389   -439.2315     85.5         5.          5.         85.5     ]\n",
      " [-300.2389   -439.2315     85.5         5.          5.         85.5     ]\n",
      " [-290.2389   -439.2315     85.5         5.          5.         85.5     ]\n",
      " ...\n",
      " [ 257.8061    425.1645      1.75852     1.292725    1.292725    1.944791]\n",
      " [ 293.9967    368.3391      3.557666    1.129456    1.129456    3.667319]\n",
      " [ 281.5162    354.4156      4.999351    1.053772    1.053772    4.950246]]\n"
     ]
    }
   ],
   "source": [
    "filename = '../colliders.csv'\n",
    "data = np.loadtxt(filename,delimiter=',',dtype='Float64',skiprows=2)\n",
    "print(data)"
   ]
  },
  {
   "cell_type": "code",
   "execution_count": 3,
   "metadata": {},
   "outputs": [],
   "source": [
    "import os, sys\n",
    "sys.path.append(os.path.dirname(os.path.dirname(os.path.abspath('planning_utils.py'))))\n",
    "from planning_utils import create_grid, a_star, heuristic, read_global_home,  prune_path\n",
    "from udacidrone.frame_utils import global_to_local, local_to_global"
   ]
  },
  {
   "cell_type": "code",
   "execution_count": 4,
   "metadata": {},
   "outputs": [
    {
     "name": "stdout",
     "output_type": "stream",
     "text": [
      "Global Home     => [lon, lat]   : (-122.39745, 37.79248)\n",
      "Grid offset : (-316, -445)\n",
      "Grid start : (395, 900)\n",
      "Grid goal : (910, 100)\n",
      "Global start : [-122.38719901   37.7959873     0.        ]\n",
      "Global goal : [-122.3962475    37.80067575    0.        ]\n"
     ]
    }
   ],
   "source": [
    "TARGET_ALTITUDE = 5\n",
    "SAFETY_DISTANCE = 5\n",
    "\n",
    "# global_home = np.array([-122.39745, 37.79248, 0.0])\n",
    "global_home = read_global_home(filename)\n",
    "print(f'Global Home     => [lon, lat]   : {global_home}')\n",
    "\n",
    "# create a grid configuration space of the obstacle data.\n",
    "grid, north_offset, east_offset  = create_grid(data, TARGET_ALTITUDE, SAFETY_DISTANCE)\n",
    "print(f'Grid offset : ({north_offset}, {east_offset})')\n",
    "# grid_start_north = int(np.ceil(local_position[0] - north_offset))\n",
    "# grid_start_east = int(np.ceil(local_position[1] - east_offset))\n",
    "# print(grid_start_north, grid_start_east)\n",
    "# local_position = (534, 300)\n",
    "\n",
    "\n",
    "# test1\n",
    "# local_start = (316.2, 445.5,0)\n",
    "# local_goal = (716, 845,0)\n",
    "\n",
    "# local_start = (716, 845)\n",
    "# local_goal = (316.2, 445.5)\n",
    "\n",
    "# test2\n",
    "# local_start = (400, 100, 0 )\n",
    "# local_goal = (716, 845, 0)\n",
    "# local_start = (716, 845)\n",
    "# local_goal = (400, 100) \n",
    "\n",
    "# test3\n",
    "# local_start = (910, 100, 0)\n",
    "# local_goal = (20, 800, 0)\n",
    "# local_start = (20, 800) \n",
    "# local_goal = (910, 100)\n",
    "\n",
    "# test3\n",
    "# local_start = (910, 100)\n",
    "# local_goal = (395, 900)\n",
    "\n",
    "local_start = (395, 900, 0) \n",
    "local_goal = (910, 100, 0)\n",
    "\n",
    "grid_start = (int(np.ceil(local_start[0])), int(np.ceil(local_start[1])))\n",
    "grid_goal = (int(np.ceil(local_goal[0])), int(np.ceil(local_goal[1])))\n",
    "\n",
    "global_start = local_to_global(local_start, global_home)\n",
    "global_goal =  local_to_global(local_goal, global_home)\n",
    "\n",
    "print(f'Grid start : {grid_start}')\n",
    "print(f'Grid goal : {grid_goal}')\n",
    "\n",
    "print(f'Global start : {global_start}')\n",
    "print(f'Global goal : {global_goal}')"
   ]
  },
  {
   "cell_type": "code",
   "execution_count": 5,
   "metadata": {},
   "outputs": [
    {
     "data": {
      "text/plain": [
       "array([-122.3962475 ,   37.80067575,    0.        ])"
      ]
     },
     "execution_count": 5,
     "metadata": {},
     "output_type": "execute_result"
    }
   ],
   "source": [
    "goal_position_g = local_to_global(local_goal, global_home)\n",
    "goal_position_g"
   ]
  },
  {
   "cell_type": "code",
   "execution_count": 6,
   "metadata": {},
   "outputs": [],
   "source": [
    "# g_lon0,g_lat0 =-122.402224, 37.797330 \n",
    "\n",
    "\n",
    "# grid_goal_global_position = np.array([g_lon0, g_lat0, 0.147])\n",
    "# grid_goal_local_position = global_to_local(grid_goal_global_position, global_home)\n",
    "# grid_goal = (int(np.ceil(-north_offset + grid_goal_local_position[0])), int(np.ceil(-east_offset + grid_goal_local_position[1])))\n",
    "\n",
    "# grid_goal_global_position = local_to_global(gird_goal_local_position, global_home)\n",
    "# print(f'Global goal global Position => [lon, lat, alt]     : [{grid_goal_global_position}]')\n",
    "# print(f'Goal goal Local Position => [north, east, down]     : [{grid_goal_local_position}]')\n",
    "# print(f'Grid goal : {grid_goal}')\n",
    " "
   ]
  },
  {
   "cell_type": "code",
   "execution_count": 7,
   "metadata": {},
   "outputs": [],
   "source": [
    "def visualize_path(g_start, g_goal, g, waypoints):\n",
    "    \"\"\"\n",
    "    Visualize the path to get from `g_start` to `g_goal` defined by `waypoints` and the grid `g`\n",
    "    \"\"\"\n",
    "#     path, cost = a_star(g, heuristic, grid_start, grid_goal)\n",
    "#     print(f'Path cost: {cost}')\n",
    "    \n",
    "#     waypoints = np.array([[p[0] + n_offset, p[1] + e_offset, TARGET_ALTITUDE, 0] for p in path])\n",
    "#     print(f'Waypoint count : {waypoints.shape[0]}')\n",
    "    \n",
    "    fig = plt.figure(figsize=(20,10))   \n",
    "    plt.imshow(g, origin='lower', cmap='Greys', alpha=0.7)     \n",
    "\n",
    "\n",
    "    plt.plot(waypoints[:, 1], waypoints[:, 0], 'g')    \n",
    "    plt.plot(waypoints[:, 1], waypoints[:, 0], 'oc')\n",
    "    plt.plot(g_start[1], g_start[0], 'r+',ms=15, mew=3)    \n",
    "    plt.plot(g_goal[1], g_goal[0], 'r+', ms=15, mew=3)\n",
    "\n",
    "\n",
    "    plt.xlabel('EAST')\n",
    "    plt.ylabel('NORTH')\n",
    "    plt.show()"
   ]
  },
  {
   "cell_type": "code",
   "execution_count": 8,
   "metadata": {
    "scrolled": false
   },
   "outputs": [
    {
     "name": "stdout",
     "output_type": "stream",
     "text": [
      "Found a path.\n",
      "Waypoint count : 1020\n"
     ]
    },
    {
     "data": {
      "image/png": "[encoded data removed]",
      "text/plain": [
       "<matplotlib.figure.Figure at 0x23dce4f6fd0>"
      ]
     },
     "metadata": {},
     "output_type": "display_data"
    }
   ],
   "source": [
    "#Compute the lowest cost path with a_star\n",
    "path, cost = a_star(grid, heuristic, grid_start, grid_goal)\n",
    "# print(f'Path cost: {cost}')\n",
    "\n",
    "# waypoints = np.array([[p[0] + north_offset, p[0] + east_offset, TARGET_ALTITUDE, 0] for p in path])\n",
    "waypoints = np.array([[p[0], p[1] , TARGET_ALTITUDE, 0] for p in path])\n",
    "print(f'Waypoint count : {waypoints.shape[0]}')\n",
    "\n",
    "# print(grid_start)\n",
    "# print(waypoints[0])\n",
    "# print(waypoints[:, 1])\n",
    "visualize_path(grid_start, grid_goal, grid, waypoints)"
   ]
  },
  {
   "cell_type": "markdown",
   "metadata": {},
   "source": [
    "#### Path Pruning"
   ]
  },
  {
   "cell_type": "code",
   "execution_count": 9,
   "metadata": {
    "scrolled": true
   },
   "outputs": [
    {
     "name": "stdout",
     "output_type": "stream",
     "text": [
      "36\n"
     ]
    },
    {
     "data": {
      "image/png": "[encoded data removed]",
      "text/plain": [
       "<matplotlib.figure.Figure at 0x23dcc3a9160>"
      ]
     },
     "metadata": {},
     "output_type": "display_data"
    }
   ],
   "source": [
    "pruned_path = prune_path(path)\n",
    "print(len(pruned_path))\n",
    "\n",
    "pruned_waypoints =  np.array([[p[0] , p[1] , TARGET_ALTITUDE, 0] for p in pruned_path])\n",
    "\n",
    "visualize_path(grid_start, grid_goal, grid, pruned_waypoints)"
   ]
  }
 ],
 "metadata": {
  "kernelspec": {
   "display_name": "Python 3",
   "language": "python",
   "name": "python3"
  },
  "language_info": {
   "codemirror_mode": {
    "name": "ipython",
    "version": 3
   },
   "file_extension": ".py",
   "mimetype": "text/x-python",
   "name": "python",
   "nbconvert_exporter": "python",
   "pygments_lexer": "ipython3",
   "version": "3.6.3"
  }
 },
 "nbformat": 4,
 "nbformat_minor": 2
}
